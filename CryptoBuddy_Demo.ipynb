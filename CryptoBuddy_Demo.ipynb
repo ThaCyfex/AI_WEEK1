{
 "cells": [
  {
   "cell_type": "markdown",
   "id": "0b42005d",
   "metadata": {},
   "source": [
    "# CryptoBuddy: Your Friendly Cryptocurrency Advisor 🤖💚\n",
    "\n",
    "Welcome! This notebook demonstrates a simple, rule-based chatbot that gives advice on cryptocurrency profitability and sustainability. You can interact with the bot, see how it works, and learn from the code and comments."
   ]
  },
  {
   "cell_type": "markdown",
   "id": "9b5b8bf9",
   "metadata": {},
   "source": [
    "## Bot Personality & Disclaimer\n",
    "\n",
    "CryptoBuddy is a friendly, beginner-focused chatbot designed to help you explore the world of cryptocurrencies. It provides advice based on simple rules and a small dataset. \n",
    "\n",
    "> ⚠️ Crypto is risky—always do your own research! This is not financial advice."
   ]
  },
  {
   "cell_type": "code",
   "execution_count": null,
   "id": "b82fbf7b",
   "metadata": {},
   "outputs": [],
   "source": [
    "# Define the bot's name and introduction\n",
    "BOT_NAME = \"CryptoBuddy\"\n",
    "INTRO = f\"\"\"\n",
    "👋 Hey there! I'm {BOT_NAME}, your friendly crypto sidekick.\\nLet's find you a green and growing crypto! 🌱📈\\n\\n⚠️ Crypto is risky—always do your own research! This is not financial advice.\\n\"\"\"\n",
    "print(INTRO)"
   ]
  },
  {
   "cell_type": "markdown",
   "id": "876c0999",
   "metadata": {},
   "source": [
    "## Predefined Crypto Dataset\n",
    "\n",
    "The bot uses a small, predefined dataset of cryptocurrencies. Each entry includes information about price trends, market cap, energy use, and a sustainability score."
   ]
  },
  {
   "cell_type": "code",
   "execution_count": null,
   "id": "53612f4a",
   "metadata": {},
   "outputs": [],
   "source": [
    "# Define a small dataset of cryptocurrencies\n",
    "crypto_db = {\n",
    "    \"Bitcoin\": {\n",
    "        \"price_trend\": \"rising\",      # Current price trend\n",
    "        \"market_cap\": \"high\",         # Market capitalization\n",
    "        \"energy_use\": \"high\",         # Energy usage\n",
    "        \"sustainability_score\": 3/10   # Sustainability score (0-1)\n",
    "    },\n",
    "    \"Ethereum\": {\n",
    "        \"price_trend\": \"stable\",\n",
    "        \"market_cap\": \"high\",\n",
    "        \"energy_use\": \"medium\",\n",
    "        \"sustainability_score\": 6/10\n",
    "    },\n",
    "    \"Cardano\": {\n",
    "        \"price_trend\": \"rising\",\n",
    "        \"market_cap\": \"medium\",\n",
    "        \"energy_use\": \"low\",\n",
    "        \"sustainability_score\": 8/10\n",
    "    }\n",
    "}\n",
    "# You can add more coins to this dictionary if you want to expand the bot."
   ]
  },
  {
   "cell_type": "markdown",
   "id": "9ef7fc43",
   "metadata": {},
   "source": [
    "## Chatbot Logic\n",
    "\n",
    "The following functions analyze the dataset and generate responses based on user questions. Each function is explained with comments."
   ]
  },
  {
   "cell_type": "code",
   "execution_count": null,
   "id": "087129f3",
   "metadata": {},
   "outputs": [],
   "source": [
    "# Find the most sustainable crypto (highest sustainability score)\n",
    "def get_most_sustainable():\n",
    "    return max(crypto_db, key=lambda x: crypto_db[x][\"sustainability_score\"])\n",
    "\n",
    "# Find the most profitable crypto (rising trend, high market cap)\n",
    "def get_most_profitable():\n",
    "    candidates = [k for k, v in crypto_db.items() if v[\"price_trend\"] == \"rising\" and v[\"market_cap\"] == \"high\"]\n",
    "    if candidates:\n",
    "        return candidates[0]\n",
    "    # If none match both, return any with a rising trend\n",
    "    rising = [k for k, v in crypto_db.items() if v[\"price_trend\"] == \"rising\"]\n",
    "    return rising[0] if rising else list(crypto_db.keys())[0]\n",
    "\n",
    "# Process user queries and generate a response\n",
    "def process_query(user_query):\n",
    "    user_query = user_query.lower()\n",
    "    if \"sustainable\" in user_query or \"eco\" in user_query or \"green\" in user_query:\n",
    "        coin = get_most_sustainable()\n",
    "        return f\"Invest in {coin}! 🌱 It’s eco-friendly and has long-term potential!\"\n",
    "    elif \"trend\" in user_query or \"rising\" in user_query or \"up\" in user_query:\n",
    "        rising = [k for k, v in crypto_db.items() if v[\"price_trend\"] == \"rising\"]\n",
    "        return f\"Trending up: {', '.join(rising)} 🚀\" if rising else \"No coins are trending up right now.\"\n",
    "    elif \"profit\" in user_query or \"grow\" in user_query or \"return\" in user_query:\n",
    "        coin = get_most_profitable()\n",
    "        return f\"For growth, check out {coin}! It's showing strong momentum.\"\n",
    "    elif \"advice\" in user_query or \"recommend\" in user_query or \"suggest\" in user_query:\n",
    "        coin = get_most_sustainable()\n",
    "        return f\"Based on sustainability, {coin} is a great choice!\"\n",
    "    elif \"help\" in user_query:\n",
    "        return (\"I can help with:\\n- Finding sustainable cryptos\\n- Identifying profitable coins\\n- Recommending based on your goals\\nTry: 'What's the most eco-friendly crypto?' or 'Recommend a long-term investment'\")\n",
    "    elif any(word in user_query for word in [\"bye\", \"exit\", \"quit\"]):\n",
    "        return \"Happy investing! Remember: only invest what you can afford to lose! 💸\"\n",
    "    else:\n",
    "        return (\"Sorry, I didn't get that.\\nTry asking about sustainable cryptos, trending coins, or type 'help' for options!\")"
   ]
  },
  {
   "cell_type": "markdown",
   "id": "76dff22f",
   "metadata": {},
   "source": [
    "## Test the Chatbot Logic\n",
    "\n",
    "Let's test the chatbot with some example questions. The output will show how the bot responds to different types of queries."
   ]
  },
  {
   "cell_type": "code",
   "execution_count": null,
   "id": "fc9077f2",
   "metadata": {},
   "outputs": [],
   "source": [
    "# Example queries to test the chatbot\n",
    "print(process_query(\"Which crypto is trending up?\"))\n",
    "print(process_query(\"What's the most sustainable coin?\"))\n",
    "print(process_query(\"Recommend a profitable crypto\"))\n",
    "print(process_query(\"help\"))\n",
    "print(process_query(\"bye\"))"
   ]
  },
  {
   "cell_type": "markdown",
   "id": "a169d4cb",
   "metadata": {},
   "source": [
    "## Interactive Chat (Optional)\n",
    "\n",
    "You can interact with the bot in this notebook. Run the next cell and type your questions. Type 'exit', 'quit', or 'bye' to end the chat."
   ]
  },
  {
   "cell_type": "code",
   "execution_count": null,
   "id": "19dbb49b",
   "metadata": {},
   "outputs": [],
   "source": [
    "# Run this cell to chat with CryptoBuddy interactively\n",
    "# Type your question and press Enter. Type 'exit', 'quit', or 'bye' to stop.\n",
    "def chat():\n",
    "    print(INTRO)\n",
    "    while True:\n",
    "        user = input(\"\\nYou: \")\n",
    "        if user.lower() in [\"exit\", \"quit\", \"bye\"]:\n",
    "            print(\"\\nCryptoBuddy: Happy investing! 💸\")\n",
    "            break\n",
    "        response = process_query(user)\n",
    "        print(f\"\\n{BOT_NAME}: {response}\")\n",
    "\n",
    "# Uncomment the next line to start chatting in the notebook\n",
    "# chat()"
   ]
  }
 ],
 "metadata": {
  "language_info": {
   "name": "python"
  }
 },
 "nbformat": 4,
 "nbformat_minor": 5
}
